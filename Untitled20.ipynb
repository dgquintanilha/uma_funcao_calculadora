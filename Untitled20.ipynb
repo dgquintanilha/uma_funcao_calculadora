{
  "nbformat": 4,
  "nbformat_minor": 0,
  "metadata": {
    "colab": {
      "provenance": [],
      "authorship_tag": "ABX9TyMqTn1oHQyPJzr1CsasO/kb",
      "include_colab_link": true
    },
    "kernelspec": {
      "name": "python3",
      "display_name": "Python 3"
    },
    "language_info": {
      "name": "python"
    }
  },
  "cells": [
    {
      "cell_type": "markdown",
      "metadata": {
        "id": "view-in-github",
        "colab_type": "text"
      },
      "source": [
        "<a href=\"https://colab.research.google.com/github/dgquintanilha/calculadora/blob/main/Untitled20.ipynb\" target=\"_parent\"><img src=\"https://colab.research.google.com/assets/colab-badge.svg\" alt=\"Open In Colab\"/></a>"
      ]
    },
    {
      "cell_type": "code",
      "execution_count": 12,
      "metadata": {
        "colab": {
          "base_uri": "https://localhost:8080/"
        },
        "id": "Ysc966valIDf",
        "outputId": "caa68d3b-60bc-4464-c0d6-4efed69464ac"
      },
      "outputs": [
        {
          "output_type": "stream",
          "name": "stdout",
          "text": [
            "digite o primeiro numero: 20\n",
            "digite operacao: +\n",
            "digite o segundo numero: 90\n",
            "110\n"
          ]
        }
      ],
      "source": [
        "\n",
        "      num1 = int(input( \"digite o primeiro numero: \"))\n",
        "      operacao = input( \"digite operacao: \")\n",
        "      num2 = int(input( \"digite o segundo numero: \"))\n",
        "\n",
        "      if operacao == \"+\":\n",
        "        soma = num1 + num2\n",
        "        print(soma)\n",
        "\n",
        "      elif operacao == \"-\":\n",
        "        subtracao = num1 - num2\n",
        "        print(subtracao)\n",
        "\n",
        "      elif operacao == \"*\":\n",
        "        multiplicacao = num1 * num2\n",
        "        print(multiplicacao)\n",
        "\n",
        "      elif operacao == \"/\":\n",
        "        divisao = num1 / num2\n",
        "        print(divisao)\n",
        "\n",
        "      else:\n",
        "        print(0)\n",
        "\n",
        "\n",
        "\n",
        "#Caso seja inserido um número de operação que não exista, o resultado deverá ser 0."
      ]
    }
  ]
}